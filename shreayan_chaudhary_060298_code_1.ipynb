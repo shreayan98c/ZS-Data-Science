{
 "cells": [
  {
   "cell_type": "markdown",
   "metadata": {},
   "source": [
    "# Christiano Ronaldo Shot Predictor"
   ]
  },
  {
   "cell_type": "markdown",
   "metadata": {},
   "source": [
    "### Import all the necessary header files as follows:"
   ]
  },
  {
   "cell_type": "markdown",
   "metadata": {},
   "source": [
    "**pandas** : An open source library used for data manipulation, cleaning, analysis and visualization. <br>\n",
    "**numpy** : A library used to manipulate multi-dimensional data in the form of numpy arrays with useful in-built functions. <br>\n",
    "**matplotlib** : A library used for plotting and visualization of data. <br>\n",
    "**seaborn** : A library based on matplotlib which is used for plotting of data. <br>\n",
    "**sklearn.metrics** : A library used to calculate the accuracy, precision and recall. <br>\n",
    "**sklearn.preprocessing** : A library used to encode and onehotencode categorical variables. "
   ]
  },
  {
   "cell_type": "code",
   "execution_count": 1,
   "metadata": {},
   "outputs": [],
   "source": [
    "# Importing libraries\n",
    "import pandas as pd\n",
    "import numpy as np\n",
    "import matplotlib.pyplot as plt\n",
    "import seaborn as sns\n",
    "from sklearn.preprocessing import LabelEncoder\n",
    "from sklearn.preprocessing import OneHotEncoder\n",
    "from sklearn import metrics\n",
    "from sklearn.model_selection import GridSearchCV\n",
    "import missingno as msno\n",
    "pd.set_option('display.max_rows', 500)\n",
    "pd.set_option('display.max_columns', 500)\n",
    "pd.set_option('display.width', 1000)"
   ]
  },
  {
   "cell_type": "code",
   "execution_count": 2,
   "metadata": {},
   "outputs": [],
   "source": [
    "# Importing the dataset\n",
    "data = pd.read_csv(\"data.csv\")"
   ]
  },
  {
   "cell_type": "markdown",
   "metadata": {},
   "source": [
    "### Inspecting and cleaning the data"
   ]
  },
  {
   "cell_type": "code",
   "execution_count": 3,
   "metadata": {},
   "outputs": [
    {
     "data": {
      "text/html": [
       "<div>\n",
       "<style scoped>\n",
       "    .dataframe tbody tr th:only-of-type {\n",
       "        vertical-align: middle;\n",
       "    }\n",
       "\n",
       "    .dataframe tbody tr th {\n",
       "        vertical-align: top;\n",
       "    }\n",
       "\n",
       "    .dataframe thead th {\n",
       "        text-align: right;\n",
       "    }\n",
       "</style>\n",
       "<table border=\"1\" class=\"dataframe\">\n",
       "  <thead>\n",
       "    <tr style=\"text-align: right;\">\n",
       "      <th></th>\n",
       "      <th>match_event_id</th>\n",
       "      <th>location_x</th>\n",
       "      <th>location_y</th>\n",
       "      <th>remaining_min</th>\n",
       "      <th>power_of_shot</th>\n",
       "      <th>knockout_match</th>\n",
       "      <th>game_season</th>\n",
       "      <th>remaining_sec</th>\n",
       "      <th>distance_of_shot</th>\n",
       "      <th>is_goal</th>\n",
       "      <th>area_of_shot</th>\n",
       "      <th>shot_basics</th>\n",
       "      <th>range_of_shot</th>\n",
       "      <th>team_name</th>\n",
       "      <th>date_of_game</th>\n",
       "      <th>home/away</th>\n",
       "      <th>shot_id_number</th>\n",
       "      <th>lat/lng</th>\n",
       "      <th>type_of_shot</th>\n",
       "      <th>type_of_combined_shot</th>\n",
       "      <th>match_id</th>\n",
       "      <th>team_id</th>\n",
       "      <th>remaining_min.1</th>\n",
       "      <th>power_of_shot.1</th>\n",
       "      <th>knockout_match.1</th>\n",
       "      <th>remaining_sec.1</th>\n",
       "      <th>distance_of_shot.1</th>\n",
       "    </tr>\n",
       "  </thead>\n",
       "  <tbody>\n",
       "    <tr>\n",
       "      <th>0</th>\n",
       "      <td>10.0</td>\n",
       "      <td>167.0</td>\n",
       "      <td>72.0</td>\n",
       "      <td>10.0</td>\n",
       "      <td>1.0</td>\n",
       "      <td>0.0</td>\n",
       "      <td>2000-01</td>\n",
       "      <td>27.0</td>\n",
       "      <td>38.0</td>\n",
       "      <td>NaN</td>\n",
       "      <td>Right Side(R)</td>\n",
       "      <td>Mid Range</td>\n",
       "      <td>16-24 ft.</td>\n",
       "      <td>Manchester United</td>\n",
       "      <td>10/31/2000</td>\n",
       "      <td>MANU @ POR</td>\n",
       "      <td>1</td>\n",
       "      <td>45.539131, -122.651648</td>\n",
       "      <td>shot - 30</td>\n",
       "      <td>NaN</td>\n",
       "      <td>20000012</td>\n",
       "      <td>1610612747</td>\n",
       "      <td>10.00</td>\n",
       "      <td>1.0</td>\n",
       "      <td>50.608</td>\n",
       "      <td>54.2000</td>\n",
       "      <td>38.0</td>\n",
       "    </tr>\n",
       "    <tr>\n",
       "      <th>1</th>\n",
       "      <td>12.0</td>\n",
       "      <td>-157.0</td>\n",
       "      <td>0.0</td>\n",
       "      <td>10.0</td>\n",
       "      <td>1.0</td>\n",
       "      <td>0.0</td>\n",
       "      <td>2000-01</td>\n",
       "      <td>22.0</td>\n",
       "      <td>35.0</td>\n",
       "      <td>0.0</td>\n",
       "      <td>Left Side(L)</td>\n",
       "      <td>Mid Range</td>\n",
       "      <td>8-16 ft.</td>\n",
       "      <td>Manchester United</td>\n",
       "      <td>10/31/2000</td>\n",
       "      <td>MANU @ POR</td>\n",
       "      <td>2</td>\n",
       "      <td>45.539131, -122.651648</td>\n",
       "      <td>shot - 45</td>\n",
       "      <td>NaN</td>\n",
       "      <td>20000012</td>\n",
       "      <td>1610612747</td>\n",
       "      <td>10.00</td>\n",
       "      <td>1.0</td>\n",
       "      <td>28.800</td>\n",
       "      <td>22.0000</td>\n",
       "      <td>35.0</td>\n",
       "    </tr>\n",
       "    <tr>\n",
       "      <th>2</th>\n",
       "      <td>35.0</td>\n",
       "      <td>-101.0</td>\n",
       "      <td>135.0</td>\n",
       "      <td>7.0</td>\n",
       "      <td>1.0</td>\n",
       "      <td>0.0</td>\n",
       "      <td>2000-01</td>\n",
       "      <td>45.0</td>\n",
       "      <td>36.0</td>\n",
       "      <td>1.0</td>\n",
       "      <td>Left Side Center(LC)</td>\n",
       "      <td>Mid Range</td>\n",
       "      <td>16-24 ft.</td>\n",
       "      <td>Manchester United</td>\n",
       "      <td>10/31/2000</td>\n",
       "      <td>NaN</td>\n",
       "      <td>3</td>\n",
       "      <td>45.539131, -122.651648</td>\n",
       "      <td>shot - 25</td>\n",
       "      <td>NaN</td>\n",
       "      <td>20000012</td>\n",
       "      <td>1610612747</td>\n",
       "      <td>92.64</td>\n",
       "      <td>1.0</td>\n",
       "      <td>0.000</td>\n",
       "      <td>63.7216</td>\n",
       "      <td>54.4</td>\n",
       "    </tr>\n",
       "    <tr>\n",
       "      <th>3</th>\n",
       "      <td>43.0</td>\n",
       "      <td>138.0</td>\n",
       "      <td>175.0</td>\n",
       "      <td>6.0</td>\n",
       "      <td>1.0</td>\n",
       "      <td>0.0</td>\n",
       "      <td>2000-01</td>\n",
       "      <td>52.0</td>\n",
       "      <td>42.0</td>\n",
       "      <td>0.0</td>\n",
       "      <td>Right Side Center(RC)</td>\n",
       "      <td>Mid Range</td>\n",
       "      <td>16-24 ft.</td>\n",
       "      <td>Manchester United</td>\n",
       "      <td>10/31/2000</td>\n",
       "      <td>MANU @ POR</td>\n",
       "      <td>4</td>\n",
       "      <td>45.539131, -122.651648</td>\n",
       "      <td>NaN</td>\n",
       "      <td>shot - 3</td>\n",
       "      <td>20000012</td>\n",
       "      <td>1610612747</td>\n",
       "      <td>NaN</td>\n",
       "      <td>1.0</td>\n",
       "      <td>122.608</td>\n",
       "      <td>52.0000</td>\n",
       "      <td>42.0</td>\n",
       "    </tr>\n",
       "    <tr>\n",
       "      <th>4</th>\n",
       "      <td>155.0</td>\n",
       "      <td>0.0</td>\n",
       "      <td>0.0</td>\n",
       "      <td>NaN</td>\n",
       "      <td>2.0</td>\n",
       "      <td>0.0</td>\n",
       "      <td>2000-01</td>\n",
       "      <td>19.0</td>\n",
       "      <td>20.0</td>\n",
       "      <td>1.0</td>\n",
       "      <td>Center(C)</td>\n",
       "      <td>Goal Area</td>\n",
       "      <td>Less Than 8 ft.</td>\n",
       "      <td>NaN</td>\n",
       "      <td>10/31/2000</td>\n",
       "      <td>MANU @ POR</td>\n",
       "      <td>5</td>\n",
       "      <td>45.539131, -122.651648</td>\n",
       "      <td>NaN</td>\n",
       "      <td>shot - 1</td>\n",
       "      <td>20000012</td>\n",
       "      <td>1610612747</td>\n",
       "      <td>42.64</td>\n",
       "      <td>2.0</td>\n",
       "      <td>0.000</td>\n",
       "      <td>19.0000</td>\n",
       "      <td>20.0</td>\n",
       "    </tr>\n",
       "  </tbody>\n",
       "</table>\n",
       "</div>"
      ],
      "text/plain": [
       "   match_event_id  location_x  location_y  remaining_min  power_of_shot  knockout_match game_season  remaining_sec  distance_of_shot  is_goal           area_of_shot shot_basics    range_of_shot          team_name date_of_game   home/away  shot_id_number                 lat/lng type_of_shot type_of_combined_shot  match_id     team_id  remaining_min.1  power_of_shot.1  knockout_match.1  remaining_sec.1  distance_of_shot.1\n",
       "0            10.0       167.0        72.0           10.0            1.0             0.0     2000-01           27.0              38.0      NaN          Right Side(R)   Mid Range        16-24 ft.  Manchester United   10/31/2000  MANU @ POR               1  45.539131, -122.651648    shot - 30                   NaN  20000012  1610612747            10.00              1.0            50.608          54.2000                38.0\n",
       "1            12.0      -157.0         0.0           10.0            1.0             0.0     2000-01           22.0              35.0      0.0           Left Side(L)   Mid Range         8-16 ft.  Manchester United   10/31/2000  MANU @ POR               2  45.539131, -122.651648    shot - 45                   NaN  20000012  1610612747            10.00              1.0            28.800          22.0000                35.0\n",
       "2            35.0      -101.0       135.0            7.0            1.0             0.0     2000-01           45.0              36.0      1.0   Left Side Center(LC)   Mid Range        16-24 ft.  Manchester United   10/31/2000         NaN               3  45.539131, -122.651648    shot - 25                   NaN  20000012  1610612747            92.64              1.0             0.000          63.7216                54.4\n",
       "3            43.0       138.0       175.0            6.0            1.0             0.0     2000-01           52.0              42.0      0.0  Right Side Center(RC)   Mid Range        16-24 ft.  Manchester United   10/31/2000  MANU @ POR               4  45.539131, -122.651648          NaN              shot - 3  20000012  1610612747              NaN              1.0           122.608          52.0000                42.0\n",
       "4           155.0         0.0         0.0            NaN            2.0             0.0     2000-01           19.0              20.0      1.0              Center(C)   Goal Area  Less Than 8 ft.                NaN   10/31/2000  MANU @ POR               5  45.539131, -122.651648          NaN              shot - 1  20000012  1610612747            42.64              2.0             0.000          19.0000                20.0"
      ]
     },
     "execution_count": 3,
     "metadata": {},
     "output_type": "execute_result"
    }
   ],
   "source": [
    "# Printing the 1st 5 columns\n",
    "data.drop(['Unnamed: 0'], axis=1, inplace=True)\n",
    "data.head()"
   ]
  },
  {
   "cell_type": "code",
   "execution_count": 4,
   "metadata": {},
   "outputs": [
    {
     "data": {
      "text/plain": [
       "(30697, 27)"
      ]
     },
     "execution_count": 4,
     "metadata": {},
     "output_type": "execute_result"
    }
   ],
   "source": [
    "# Printing the dimensions of data\n",
    "data.shape"
   ]
  },
  {
   "cell_type": "code",
   "execution_count": 5,
   "metadata": {},
   "outputs": [
    {
     "data": {
      "text/plain": [
       "Index(['match_event_id', 'location_x', 'location_y', 'remaining_min', 'power_of_shot', 'knockout_match', 'game_season', 'remaining_sec', 'distance_of_shot', 'is_goal', 'area_of_shot', 'shot_basics', 'range_of_shot', 'team_name', 'date_of_game', 'home/away', 'shot_id_number', 'lat/lng', 'type_of_shot', 'type_of_combined_shot', 'match_id', 'team_id', 'remaining_min.1', 'power_of_shot.1', 'knockout_match.1', 'remaining_sec.1', 'distance_of_shot.1'], dtype='object')"
      ]
     },
     "execution_count": 5,
     "metadata": {},
     "output_type": "execute_result"
    }
   ],
   "source": [
    "# Viewing the column heading\n",
    "data.columns"
   ]
  },
  {
   "cell_type": "code",
   "execution_count": 6,
   "metadata": {
    "scrolled": true
   },
   "outputs": [
    {
     "data": {
      "text/plain": [
       "0.0    13550\n",
       "1.0    10879\n",
       "Name: is_goal, dtype: int64"
      ]
     },
     "execution_count": 6,
     "metadata": {},
     "output_type": "execute_result"
    }
   ],
   "source": [
    "# Inspecting the target variable\n",
    "data['is_goal'].value_counts()"
   ]
  },
  {
   "cell_type": "markdown",
   "metadata": {},
   "source": [
    "### Data Visualization"
   ]
  },
  {
   "cell_type": "code",
   "execution_count": 7,
   "metadata": {},
   "outputs": [
    {
     "data": {
      "text/plain": [
       "<matplotlib.axes._subplots.AxesSubplot at 0x2a75026b2e8>"
      ]
     },
     "execution_count": 7,
     "metadata": {},
     "output_type": "execute_result"
    },
    {
     "data": {
      "image/png": "[encoded data removed]",
      "text/plain": [
       "<Figure size 1800x720 with 2 Axes>"
      ]
     },
     "metadata": {
      "needs_background": "light"
     },
     "output_type": "display_data"
    }
   ],
   "source": [
    "msno.matrix(data)"
   ]
  },
  {
   "cell_type": "code",
   "execution_count": 8,
   "metadata": {},
   "outputs": [
    {
     "data": {
      "text/plain": [
       "match_event_id             618\n",
       "location_x                 488\n",
       "location_y                 450\n",
       "remaining_min               12\n",
       "power_of_shot                7\n",
       "knockout_match               2\n",
       "game_season                 20\n",
       "remaining_sec               60\n",
       "distance_of_shot            73\n",
       "is_goal                      2\n",
       "area_of_shot                 6\n",
       "shot_basics                  7\n",
       "range_of_shot                5\n",
       "team_name                    1\n",
       "date_of_game              1558\n",
       "home/away                   74\n",
       "shot_id_number           30697\n",
       "lat/lng                     38\n",
       "type_of_shot                57\n",
       "type_of_combined_shot        6\n",
       "match_id                  1559\n",
       "team_id                      1\n",
       "remaining_min.1            291\n",
       "power_of_shot.1            206\n",
       "knockout_match.1           382\n",
       "remaining_sec.1            354\n",
       "distance_of_shot.1         271\n",
       "dtype: int64"
      ]
     },
     "execution_count": 8,
     "metadata": {},
     "output_type": "execute_result"
    }
   ],
   "source": [
    "# Identifying the unique number of values in the dataset\n",
    "data.nunique()"
   ]
  },
  {
   "cell_type": "code",
   "execution_count": 9,
   "metadata": {},
   "outputs": [],
   "source": [
    "# Imputing missing values"
   ]
  },
  {
   "cell_type": "code",
   "execution_count": 10,
   "metadata": {},
   "outputs": [],
   "source": [
    "data['match_event_id'] = data['match_event_id'].fillna(data['match_event_id'].mean())\n",
    "data['location_x'] = data['location_x'].fillna(data['location_x'].mean())\n",
    "data['location_y'] = data['location_y'].fillna(data['location_y'].mean())\n",
    "data['remaining_min'] = data['remaining_min'].fillna(data['remaining_min'].mean())\n",
    "data['power_of_shot'] = data['power_of_shot'].fillna(data['power_of_shot'].mean())\n",
    "data['knockout_match'] = data['knockout_match'].fillna(-1)\n",
    "data['game_season'] = data['game_season'].fillna('Unspecified')\n",
    "data['remaining_sec'] = data['remaining_sec'].fillna(data['remaining_sec'].median())\n",
    "data['distance_of_shot'] = data['distance_of_shot'].fillna(data['distance_of_shot'].mean())\n",
    "data['area_of_shot'] = data['area_of_shot'].fillna('Unspecified')\n",
    "data['shot_basics'] = data['shot_basics'].fillna('Unspecified')\n",
    "data['range_of_shot'] = data['range_of_shot'].fillna('Unspecified')\n",
    "data['home/away'] = data['home/away'].fillna('Unspecified')\n",
    "data['type_of_shot'] = data['type_of_shot'].fillna('Unspecified')\n",
    "data['remaining_min.1'] = data['remaining_min.1'].fillna(data['remaining_min.1'].median())\n",
    "data['power_of_shot.1'] = data['power_of_shot.1'].fillna(data['power_of_shot.1'].median())\n",
    "data['knockout_match.1'] = data['knockout_match.1'].fillna(-1)\n",
    "data['remaining_sec.1'] = data['remaining_sec.1'].fillna(data['remaining_sec.1'].median())\n",
    "data['distance_of_shot.1'] = data['distance_of_shot.1'].fillna(data['distance_of_shot.1'].mean())"
   ]
  },
  {
   "cell_type": "code",
   "execution_count": 11,
   "metadata": {},
   "outputs": [],
   "source": [
    "l = []\n",
    "for item in data['home/away']:\n",
    "    if '@' in item:\n",
    "        l.append('Away')\n",
    "    elif 'vs' in item:\n",
    "        l.append('Home')\n",
    "    else:\n",
    "        l.append('Unspecified')\n",
    "data['h/a'] = l"
   ]
  },
  {
   "cell_type": "code",
   "execution_count": 12,
   "metadata": {},
   "outputs": [],
   "source": [
    "def getlat(x):\n",
    "    return float(str(x).split(',')[0])"
   ]
  },
  {
   "cell_type": "code",
   "execution_count": 13,
   "metadata": {},
   "outputs": [],
   "source": [
    "def getlong(x):\n",
    "    try:\n",
    "        r = str(x).split(',')[1]\n",
    "        return float(r)\n",
    "    except:\n",
    "        return np.nan"
   ]
  },
  {
   "cell_type": "code",
   "execution_count": 14,
   "metadata": {},
   "outputs": [],
   "source": [
    "data['lat'] = data['lat/lng'].apply(getlat)"
   ]
  },
  {
   "cell_type": "code",
   "execution_count": 15,
   "metadata": {},
   "outputs": [],
   "source": [
    "data['long'] = data['lat/lng'].apply(getlong)"
   ]
  },
  {
   "cell_type": "code",
   "execution_count": 16,
   "metadata": {},
   "outputs": [],
   "source": [
    "data['lat'] = data['lat'].fillna(data['lat'].mean())\n",
    "data['long'] = data['long'].fillna(data['long'].mean())"
   ]
  },
  {
   "cell_type": "code",
   "execution_count": 17,
   "metadata": {},
   "outputs": [
    {
     "data": {
      "text/html": [
       "<div>\n",
       "<style scoped>\n",
       "    .dataframe tbody tr th:only-of-type {\n",
       "        vertical-align: middle;\n",
       "    }\n",
       "\n",
       "    .dataframe tbody tr th {\n",
       "        vertical-align: top;\n",
       "    }\n",
       "\n",
       "    .dataframe thead th {\n",
       "        text-align: right;\n",
       "    }\n",
       "</style>\n",
       "<table border=\"1\" class=\"dataframe\">\n",
       "  <thead>\n",
       "    <tr style=\"text-align: right;\">\n",
       "      <th></th>\n",
       "      <th>match_event_id</th>\n",
       "      <th>location_x</th>\n",
       "      <th>location_y</th>\n",
       "      <th>remaining_min</th>\n",
       "      <th>power_of_shot</th>\n",
       "      <th>knockout_match</th>\n",
       "      <th>game_season</th>\n",
       "      <th>remaining_sec</th>\n",
       "      <th>distance_of_shot</th>\n",
       "      <th>is_goal</th>\n",
       "      <th>area_of_shot</th>\n",
       "      <th>shot_basics</th>\n",
       "      <th>range_of_shot</th>\n",
       "      <th>team_name</th>\n",
       "      <th>date_of_game</th>\n",
       "      <th>home/away</th>\n",
       "      <th>shot_id_number</th>\n",
       "      <th>lat/lng</th>\n",
       "      <th>type_of_shot</th>\n",
       "      <th>type_of_combined_shot</th>\n",
       "      <th>match_id</th>\n",
       "      <th>team_id</th>\n",
       "      <th>remaining_min.1</th>\n",
       "      <th>power_of_shot.1</th>\n",
       "      <th>knockout_match.1</th>\n",
       "      <th>remaining_sec.1</th>\n",
       "      <th>distance_of_shot.1</th>\n",
       "      <th>h/a</th>\n",
       "      <th>lat</th>\n",
       "      <th>long</th>\n",
       "    </tr>\n",
       "  </thead>\n",
       "  <tbody>\n",
       "    <tr>\n",
       "      <th>0</th>\n",
       "      <td>10.0</td>\n",
       "      <td>167.0</td>\n",
       "      <td>72.0</td>\n",
       "      <td>10.000000</td>\n",
       "      <td>1.0</td>\n",
       "      <td>0.0</td>\n",
       "      <td>2000-01</td>\n",
       "      <td>27.0</td>\n",
       "      <td>38.0</td>\n",
       "      <td>NaN</td>\n",
       "      <td>Right Side(R)</td>\n",
       "      <td>Mid Range</td>\n",
       "      <td>16-24 ft.</td>\n",
       "      <td>Manchester United</td>\n",
       "      <td>10/31/2000</td>\n",
       "      <td>MANU @ POR</td>\n",
       "      <td>1</td>\n",
       "      <td>45.539131, -122.651648</td>\n",
       "      <td>shot - 30</td>\n",
       "      <td>NaN</td>\n",
       "      <td>20000012</td>\n",
       "      <td>1610612747</td>\n",
       "      <td>10.00</td>\n",
       "      <td>1.0</td>\n",
       "      <td>50.608</td>\n",
       "      <td>54.2000</td>\n",
       "      <td>38.0</td>\n",
       "      <td>Away</td>\n",
       "      <td>45.539131</td>\n",
       "      <td>-122.651648</td>\n",
       "    </tr>\n",
       "    <tr>\n",
       "      <th>1</th>\n",
       "      <td>12.0</td>\n",
       "      <td>-157.0</td>\n",
       "      <td>0.0</td>\n",
       "      <td>10.000000</td>\n",
       "      <td>1.0</td>\n",
       "      <td>0.0</td>\n",
       "      <td>2000-01</td>\n",
       "      <td>22.0</td>\n",
       "      <td>35.0</td>\n",
       "      <td>0.0</td>\n",
       "      <td>Left Side(L)</td>\n",
       "      <td>Mid Range</td>\n",
       "      <td>8-16 ft.</td>\n",
       "      <td>Manchester United</td>\n",
       "      <td>10/31/2000</td>\n",
       "      <td>MANU @ POR</td>\n",
       "      <td>2</td>\n",
       "      <td>45.539131, -122.651648</td>\n",
       "      <td>shot - 45</td>\n",
       "      <td>NaN</td>\n",
       "      <td>20000012</td>\n",
       "      <td>1610612747</td>\n",
       "      <td>10.00</td>\n",
       "      <td>1.0</td>\n",
       "      <td>28.800</td>\n",
       "      <td>22.0000</td>\n",
       "      <td>35.0</td>\n",
       "      <td>Away</td>\n",
       "      <td>45.539131</td>\n",
       "      <td>-122.651648</td>\n",
       "    </tr>\n",
       "    <tr>\n",
       "      <th>2</th>\n",
       "      <td>35.0</td>\n",
       "      <td>-101.0</td>\n",
       "      <td>135.0</td>\n",
       "      <td>7.000000</td>\n",
       "      <td>1.0</td>\n",
       "      <td>0.0</td>\n",
       "      <td>2000-01</td>\n",
       "      <td>45.0</td>\n",
       "      <td>36.0</td>\n",
       "      <td>1.0</td>\n",
       "      <td>Left Side Center(LC)</td>\n",
       "      <td>Mid Range</td>\n",
       "      <td>16-24 ft.</td>\n",
       "      <td>Manchester United</td>\n",
       "      <td>10/31/2000</td>\n",
       "      <td>Unspecified</td>\n",
       "      <td>3</td>\n",
       "      <td>45.539131, -122.651648</td>\n",
       "      <td>shot - 25</td>\n",
       "      <td>NaN</td>\n",
       "      <td>20000012</td>\n",
       "      <td>1610612747</td>\n",
       "      <td>92.64</td>\n",
       "      <td>1.0</td>\n",
       "      <td>0.000</td>\n",
       "      <td>63.7216</td>\n",
       "      <td>54.4</td>\n",
       "      <td>Unspecified</td>\n",
       "      <td>45.539131</td>\n",
       "      <td>-122.651648</td>\n",
       "    </tr>\n",
       "    <tr>\n",
       "      <th>3</th>\n",
       "      <td>43.0</td>\n",
       "      <td>138.0</td>\n",
       "      <td>175.0</td>\n",
       "      <td>6.000000</td>\n",
       "      <td>1.0</td>\n",
       "      <td>0.0</td>\n",
       "      <td>2000-01</td>\n",
       "      <td>52.0</td>\n",
       "      <td>42.0</td>\n",
       "      <td>0.0</td>\n",
       "      <td>Right Side Center(RC)</td>\n",
       "      <td>Mid Range</td>\n",
       "      <td>16-24 ft.</td>\n",
       "      <td>Manchester United</td>\n",
       "      <td>10/31/2000</td>\n",
       "      <td>MANU @ POR</td>\n",
       "      <td>4</td>\n",
       "      <td>45.539131, -122.651648</td>\n",
       "      <td>Unspecified</td>\n",
       "      <td>shot - 3</td>\n",
       "      <td>20000012</td>\n",
       "      <td>1610612747</td>\n",
       "      <td>6.00</td>\n",
       "      <td>1.0</td>\n",
       "      <td>122.608</td>\n",
       "      <td>52.0000</td>\n",
       "      <td>42.0</td>\n",
       "      <td>Away</td>\n",
       "      <td>45.539131</td>\n",
       "      <td>-122.651648</td>\n",
       "    </tr>\n",
       "    <tr>\n",
       "      <th>4</th>\n",
       "      <td>155.0</td>\n",
       "      <td>0.0</td>\n",
       "      <td>0.0</td>\n",
       "      <td>4.883233</td>\n",
       "      <td>2.0</td>\n",
       "      <td>0.0</td>\n",
       "      <td>2000-01</td>\n",
       "      <td>19.0</td>\n",
       "      <td>20.0</td>\n",
       "      <td>1.0</td>\n",
       "      <td>Center(C)</td>\n",
       "      <td>Goal Area</td>\n",
       "      <td>Less Than 8 ft.</td>\n",
       "      <td>NaN</td>\n",
       "      <td>10/31/2000</td>\n",
       "      <td>MANU @ POR</td>\n",
       "      <td>5</td>\n",
       "      <td>45.539131, -122.651648</td>\n",
       "      <td>Unspecified</td>\n",
       "      <td>shot - 1</td>\n",
       "      <td>20000012</td>\n",
       "      <td>1610612747</td>\n",
       "      <td>42.64</td>\n",
       "      <td>2.0</td>\n",
       "      <td>0.000</td>\n",
       "      <td>19.0000</td>\n",
       "      <td>20.0</td>\n",
       "      <td>Away</td>\n",
       "      <td>45.539131</td>\n",
       "      <td>-122.651648</td>\n",
       "    </tr>\n",
       "  </tbody>\n",
       "</table>\n",
       "</div>"
      ],
      "text/plain": [
       "   match_event_id  location_x  location_y  remaining_min  power_of_shot  knockout_match game_season  remaining_sec  distance_of_shot  is_goal           area_of_shot shot_basics    range_of_shot          team_name date_of_game    home/away  shot_id_number                 lat/lng type_of_shot type_of_combined_shot  match_id     team_id  remaining_min.1  power_of_shot.1  knockout_match.1  remaining_sec.1  distance_of_shot.1          h/a        lat        long\n",
       "0            10.0       167.0        72.0      10.000000            1.0             0.0     2000-01           27.0              38.0      NaN          Right Side(R)   Mid Range        16-24 ft.  Manchester United   10/31/2000   MANU @ POR               1  45.539131, -122.651648    shot - 30                   NaN  20000012  1610612747            10.00              1.0            50.608          54.2000                38.0         Away  45.539131 -122.651648\n",
       "1            12.0      -157.0         0.0      10.000000            1.0             0.0     2000-01           22.0              35.0      0.0           Left Side(L)   Mid Range         8-16 ft.  Manchester United   10/31/2000   MANU @ POR               2  45.539131, -122.651648    shot - 45                   NaN  20000012  1610612747            10.00              1.0            28.800          22.0000                35.0         Away  45.539131 -122.651648\n",
       "2            35.0      -101.0       135.0       7.000000            1.0             0.0     2000-01           45.0              36.0      1.0   Left Side Center(LC)   Mid Range        16-24 ft.  Manchester United   10/31/2000  Unspecified               3  45.539131, -122.651648    shot - 25                   NaN  20000012  1610612747            92.64              1.0             0.000          63.7216                54.4  Unspecified  45.539131 -122.651648\n",
       "3            43.0       138.0       175.0       6.000000            1.0             0.0     2000-01           52.0              42.0      0.0  Right Side Center(RC)   Mid Range        16-24 ft.  Manchester United   10/31/2000   MANU @ POR               4  45.539131, -122.651648  Unspecified              shot - 3  20000012  1610612747             6.00              1.0           122.608          52.0000                42.0         Away  45.539131 -122.651648\n",
       "4           155.0         0.0         0.0       4.883233            2.0             0.0     2000-01           19.0              20.0      1.0              Center(C)   Goal Area  Less Than 8 ft.                NaN   10/31/2000   MANU @ POR               5  45.539131, -122.651648  Unspecified              shot - 1  20000012  1610612747            42.64              2.0             0.000          19.0000                20.0         Away  45.539131 -122.651648"
      ]
     },
     "execution_count": 17,
     "metadata": {},
     "output_type": "execute_result"
    }
   ],
   "source": [
    "data.head()"
   ]
  },
  {
   "cell_type": "code",
   "execution_count": 18,
   "metadata": {},
   "outputs": [],
   "source": [
    "# Dropping columns not needed for our model\n",
    "data.drop(['match_event_id', 'lat/lng', 'team_name', 'home/away', 'team_id', 'date_of_game', 'match_id', 'type_of_combined_shot'], axis=1, inplace=True)"
   ]
  },
  {
   "cell_type": "code",
   "execution_count": 19,
   "metadata": {},
   "outputs": [
    {
     "data": {
      "text/plain": [
       "location_x            float64\n",
       "location_y            float64\n",
       "remaining_min         float64\n",
       "power_of_shot         float64\n",
       "knockout_match        float64\n",
       "game_season            object\n",
       "remaining_sec         float64\n",
       "distance_of_shot      float64\n",
       "is_goal               float64\n",
       "area_of_shot           object\n",
       "shot_basics            object\n",
       "range_of_shot          object\n",
       "shot_id_number          int64\n",
       "type_of_shot           object\n",
       "remaining_min.1       float64\n",
       "power_of_shot.1       float64\n",
       "knockout_match.1      float64\n",
       "remaining_sec.1       float64\n",
       "distance_of_shot.1    float64\n",
       "h/a                    object\n",
       "lat                   float64\n",
       "long                  float64\n",
       "dtype: object"
      ]
     },
     "execution_count": 19,
     "metadata": {},
     "output_type": "execute_result"
    }
   ],
   "source": [
    "data.dtypes"
   ]
  },
  {
   "cell_type": "code",
   "execution_count": 20,
   "metadata": {},
   "outputs": [
    {
     "data": {
      "text/plain": [
       "location_x               0\n",
       "location_y               0\n",
       "remaining_min            0\n",
       "power_of_shot            0\n",
       "knockout_match           0\n",
       "game_season              0\n",
       "remaining_sec            0\n",
       "distance_of_shot         0\n",
       "is_goal               6268\n",
       "area_of_shot             0\n",
       "shot_basics              0\n",
       "range_of_shot            0\n",
       "shot_id_number           0\n",
       "type_of_shot             0\n",
       "remaining_min.1          0\n",
       "power_of_shot.1          0\n",
       "knockout_match.1         0\n",
       "remaining_sec.1          0\n",
       "distance_of_shot.1       0\n",
       "h/a                      0\n",
       "lat                      0\n",
       "long                     0\n",
       "dtype: int64"
      ]
     },
     "execution_count": 20,
     "metadata": {},
     "output_type": "execute_result"
    }
   ],
   "source": [
    "data.isna().sum()"
   ]
  },
  {
   "cell_type": "code",
   "execution_count": 21,
   "metadata": {},
   "outputs": [],
   "source": [
    "train = data[data['is_goal'].notna()]"
   ]
  },
  {
   "cell_type": "code",
   "execution_count": 22,
   "metadata": {},
   "outputs": [
    {
     "name": "stderr",
     "output_type": "stream",
     "text": [
      "F:\\Installed\\Anaconda3\\lib\\site-packages\\pandas\\core\\frame.py:3697: SettingWithCopyWarning: \n",
      "A value is trying to be set on a copy of a slice from a DataFrame\n",
      "\n",
      "See the caveats in the documentation: http://pandas.pydata.org/pandas-docs/stable/indexing.html#indexing-view-versus-copy\n",
      "  errors=errors)\n"
     ]
    }
   ],
   "source": [
    "train.drop(['shot_id_number'], axis=1, inplace=True)"
   ]
  },
  {
   "cell_type": "code",
   "execution_count": 23,
   "metadata": {},
   "outputs": [
    {
     "data": {
      "text/plain": [
       "(24429, 21)"
      ]
     },
     "execution_count": 23,
     "metadata": {},
     "output_type": "execute_result"
    }
   ],
   "source": [
    "train.shape"
   ]
  },
  {
   "cell_type": "code",
   "execution_count": 24,
   "metadata": {
    "scrolled": true
   },
   "outputs": [
    {
     "data": {
      "text/html": [
       "<div>\n",
       "<style scoped>\n",
       "    .dataframe tbody tr th:only-of-type {\n",
       "        vertical-align: middle;\n",
       "    }\n",
       "\n",
       "    .dataframe tbody tr th {\n",
       "        vertical-align: top;\n",
       "    }\n",
       "\n",
       "    .dataframe thead th {\n",
       "        text-align: right;\n",
       "    }\n",
       "</style>\n",
       "<table border=\"1\" class=\"dataframe\">\n",
       "  <thead>\n",
       "    <tr style=\"text-align: right;\">\n",
       "      <th></th>\n",
       "      <th>location_x</th>\n",
       "      <th>location_y</th>\n",
       "      <th>remaining_min</th>\n",
       "      <th>power_of_shot</th>\n",
       "      <th>knockout_match</th>\n",
       "      <th>game_season</th>\n",
       "      <th>remaining_sec</th>\n",
       "      <th>distance_of_shot</th>\n",
       "      <th>is_goal</th>\n",
       "      <th>area_of_shot</th>\n",
       "      <th>shot_basics</th>\n",
       "      <th>range_of_shot</th>\n",
       "      <th>type_of_shot</th>\n",
       "      <th>remaining_min.1</th>\n",
       "      <th>power_of_shot.1</th>\n",
       "      <th>knockout_match.1</th>\n",
       "      <th>remaining_sec.1</th>\n",
       "      <th>distance_of_shot.1</th>\n",
       "      <th>h/a</th>\n",
       "      <th>lat</th>\n",
       "      <th>long</th>\n",
       "    </tr>\n",
       "  </thead>\n",
       "  <tbody>\n",
       "    <tr>\n",
       "      <th>1</th>\n",
       "      <td>-157.0</td>\n",
       "      <td>0.0</td>\n",
       "      <td>10.000000</td>\n",
       "      <td>1.0</td>\n",
       "      <td>0.0</td>\n",
       "      <td>2000-01</td>\n",
       "      <td>22.0</td>\n",
       "      <td>35.0</td>\n",
       "      <td>0.0</td>\n",
       "      <td>Left Side(L)</td>\n",
       "      <td>Mid Range</td>\n",
       "      <td>8-16 ft.</td>\n",
       "      <td>shot - 45</td>\n",
       "      <td>10.00</td>\n",
       "      <td>1.0</td>\n",
       "      <td>28.800</td>\n",
       "      <td>22.0000</td>\n",
       "      <td>35.0</td>\n",
       "      <td>Away</td>\n",
       "      <td>45.539131</td>\n",
       "      <td>-122.651648</td>\n",
       "    </tr>\n",
       "    <tr>\n",
       "      <th>2</th>\n",
       "      <td>-101.0</td>\n",
       "      <td>135.0</td>\n",
       "      <td>7.000000</td>\n",
       "      <td>1.0</td>\n",
       "      <td>0.0</td>\n",
       "      <td>2000-01</td>\n",
       "      <td>45.0</td>\n",
       "      <td>36.0</td>\n",
       "      <td>1.0</td>\n",
       "      <td>Left Side Center(LC)</td>\n",
       "      <td>Mid Range</td>\n",
       "      <td>16-24 ft.</td>\n",
       "      <td>shot - 25</td>\n",
       "      <td>92.64</td>\n",
       "      <td>1.0</td>\n",
       "      <td>0.000</td>\n",
       "      <td>63.7216</td>\n",
       "      <td>54.4</td>\n",
       "      <td>Unspecified</td>\n",
       "      <td>45.539131</td>\n",
       "      <td>-122.651648</td>\n",
       "    </tr>\n",
       "    <tr>\n",
       "      <th>3</th>\n",
       "      <td>138.0</td>\n",
       "      <td>175.0</td>\n",
       "      <td>6.000000</td>\n",
       "      <td>1.0</td>\n",
       "      <td>0.0</td>\n",
       "      <td>2000-01</td>\n",
       "      <td>52.0</td>\n",
       "      <td>42.0</td>\n",
       "      <td>0.0</td>\n",
       "      <td>Right Side Center(RC)</td>\n",
       "      <td>Mid Range</td>\n",
       "      <td>16-24 ft.</td>\n",
       "      <td>Unspecified</td>\n",
       "      <td>6.00</td>\n",
       "      <td>1.0</td>\n",
       "      <td>122.608</td>\n",
       "      <td>52.0000</td>\n",
       "      <td>42.0</td>\n",
       "      <td>Away</td>\n",
       "      <td>45.539131</td>\n",
       "      <td>-122.651648</td>\n",
       "    </tr>\n",
       "    <tr>\n",
       "      <th>4</th>\n",
       "      <td>0.0</td>\n",
       "      <td>0.0</td>\n",
       "      <td>4.883233</td>\n",
       "      <td>2.0</td>\n",
       "      <td>0.0</td>\n",
       "      <td>2000-01</td>\n",
       "      <td>19.0</td>\n",
       "      <td>20.0</td>\n",
       "      <td>1.0</td>\n",
       "      <td>Center(C)</td>\n",
       "      <td>Goal Area</td>\n",
       "      <td>Less Than 8 ft.</td>\n",
       "      <td>Unspecified</td>\n",
       "      <td>42.64</td>\n",
       "      <td>2.0</td>\n",
       "      <td>0.000</td>\n",
       "      <td>19.0000</td>\n",
       "      <td>20.0</td>\n",
       "      <td>Away</td>\n",
       "      <td>45.539131</td>\n",
       "      <td>-122.651648</td>\n",
       "    </tr>\n",
       "    <tr>\n",
       "      <th>5</th>\n",
       "      <td>-145.0</td>\n",
       "      <td>-11.0</td>\n",
       "      <td>9.000000</td>\n",
       "      <td>3.0</td>\n",
       "      <td>0.0</td>\n",
       "      <td>Unspecified</td>\n",
       "      <td>32.0</td>\n",
       "      <td>34.0</td>\n",
       "      <td>0.0</td>\n",
       "      <td>Left Side(L)</td>\n",
       "      <td>Mid Range</td>\n",
       "      <td>8-16 ft.</td>\n",
       "      <td>shot - 17</td>\n",
       "      <td>9.00</td>\n",
       "      <td>3.0</td>\n",
       "      <td>0.000</td>\n",
       "      <td>35.0000</td>\n",
       "      <td>34.0</td>\n",
       "      <td>Away</td>\n",
       "      <td>45.539131</td>\n",
       "      <td>-122.651648</td>\n",
       "    </tr>\n",
       "  </tbody>\n",
       "</table>\n",
       "</div>"
      ],
      "text/plain": [
       "   location_x  location_y  remaining_min  power_of_shot  knockout_match  game_season  remaining_sec  distance_of_shot  is_goal           area_of_shot shot_basics    range_of_shot type_of_shot  remaining_min.1  power_of_shot.1  knockout_match.1  remaining_sec.1  distance_of_shot.1          h/a        lat        long\n",
       "1      -157.0         0.0      10.000000            1.0             0.0      2000-01           22.0              35.0      0.0           Left Side(L)   Mid Range         8-16 ft.    shot - 45            10.00              1.0            28.800          22.0000                35.0         Away  45.539131 -122.651648\n",
       "2      -101.0       135.0       7.000000            1.0             0.0      2000-01           45.0              36.0      1.0   Left Side Center(LC)   Mid Range        16-24 ft.    shot - 25            92.64              1.0             0.000          63.7216                54.4  Unspecified  45.539131 -122.651648\n",
       "3       138.0       175.0       6.000000            1.0             0.0      2000-01           52.0              42.0      0.0  Right Side Center(RC)   Mid Range        16-24 ft.  Unspecified             6.00              1.0           122.608          52.0000                42.0         Away  45.539131 -122.651648\n",
       "4         0.0         0.0       4.883233            2.0             0.0      2000-01           19.0              20.0      1.0              Center(C)   Goal Area  Less Than 8 ft.  Unspecified            42.64              2.0             0.000          19.0000                20.0         Away  45.539131 -122.651648\n",
       "5      -145.0       -11.0       9.000000            3.0             0.0  Unspecified           32.0              34.0      0.0           Left Side(L)   Mid Range         8-16 ft.    shot - 17             9.00              3.0             0.000          35.0000                34.0         Away  45.539131 -122.651648"
      ]
     },
     "execution_count": 24,
     "metadata": {},
     "output_type": "execute_result"
    }
   ],
   "source": [
    "train.head()"
   ]
  },
  {
   "cell_type": "code",
   "execution_count": 25,
   "metadata": {},
   "outputs": [],
   "source": [
    "test = data[data['is_goal'].isna()]"
   ]
  },
  {
   "cell_type": "code",
   "execution_count": 26,
   "metadata": {},
   "outputs": [
    {
     "data": {
      "text/plain": [
       "(6268, 1)"
      ]
     },
     "execution_count": 26,
     "metadata": {},
     "output_type": "execute_result"
    }
   ],
   "source": [
    "my_submission = pd.DataFrame({'shot_id_number': test['shot_id_number']})\n",
    "my_submission.shape"
   ]
  },
  {
   "cell_type": "code",
   "execution_count": 27,
   "metadata": {},
   "outputs": [],
   "source": [
    "test.drop(['shot_id_number'], axis=1, inplace=True)"
   ]
  },
  {
   "cell_type": "code",
   "execution_count": 28,
   "metadata": {},
   "outputs": [
    {
     "data": {
      "text/plain": [
       "(6268, 21)"
      ]
     },
     "execution_count": 28,
     "metadata": {},
     "output_type": "execute_result"
    }
   ],
   "source": [
    "test.shape"
   ]
  },
  {
   "cell_type": "code",
   "execution_count": 29,
   "metadata": {},
   "outputs": [
    {
     "data": {
      "text/html": [
       "<div>\n",
       "<style scoped>\n",
       "    .dataframe tbody tr th:only-of-type {\n",
       "        vertical-align: middle;\n",
       "    }\n",
       "\n",
       "    .dataframe tbody tr th {\n",
       "        vertical-align: top;\n",
       "    }\n",
       "\n",
       "    .dataframe thead th {\n",
       "        text-align: right;\n",
       "    }\n",
       "</style>\n",
       "<table border=\"1\" class=\"dataframe\">\n",
       "  <thead>\n",
       "    <tr style=\"text-align: right;\">\n",
       "      <th></th>\n",
       "      <th>location_x</th>\n",
       "      <th>location_y</th>\n",
       "      <th>remaining_min</th>\n",
       "      <th>power_of_shot</th>\n",
       "      <th>knockout_match</th>\n",
       "      <th>game_season</th>\n",
       "      <th>remaining_sec</th>\n",
       "      <th>distance_of_shot</th>\n",
       "      <th>is_goal</th>\n",
       "      <th>area_of_shot</th>\n",
       "      <th>shot_basics</th>\n",
       "      <th>range_of_shot</th>\n",
       "      <th>type_of_shot</th>\n",
       "      <th>remaining_min.1</th>\n",
       "      <th>power_of_shot.1</th>\n",
       "      <th>knockout_match.1</th>\n",
       "      <th>remaining_sec.1</th>\n",
       "      <th>distance_of_shot.1</th>\n",
       "      <th>h/a</th>\n",
       "      <th>lat</th>\n",
       "      <th>long</th>\n",
       "    </tr>\n",
       "  </thead>\n",
       "  <tbody>\n",
       "    <tr>\n",
       "      <th>0</th>\n",
       "      <td>167.0</td>\n",
       "      <td>72.0</td>\n",
       "      <td>10.0</td>\n",
       "      <td>1.0</td>\n",
       "      <td>0.0</td>\n",
       "      <td>2000-01</td>\n",
       "      <td>27.0</td>\n",
       "      <td>38.0</td>\n",
       "      <td>NaN</td>\n",
       "      <td>Right Side(R)</td>\n",
       "      <td>Mid Range</td>\n",
       "      <td>16-24 ft.</td>\n",
       "      <td>shot - 30</td>\n",
       "      <td>10.00</td>\n",
       "      <td>1.00</td>\n",
       "      <td>50.608</td>\n",
       "      <td>54.2</td>\n",
       "      <td>38.0</td>\n",
       "      <td>Away</td>\n",
       "      <td>45.539131</td>\n",
       "      <td>-122.651648</td>\n",
       "    </tr>\n",
       "    <tr>\n",
       "      <th>7</th>\n",
       "      <td>1.0</td>\n",
       "      <td>28.0</td>\n",
       "      <td>8.0</td>\n",
       "      <td>3.0</td>\n",
       "      <td>0.0</td>\n",
       "      <td>2000-01</td>\n",
       "      <td>5.0</td>\n",
       "      <td>22.0</td>\n",
       "      <td>NaN</td>\n",
       "      <td>Center(C)</td>\n",
       "      <td>Goal Area</td>\n",
       "      <td>Less Than 8 ft.</td>\n",
       "      <td>Unspecified</td>\n",
       "      <td>68.64</td>\n",
       "      <td>3.00</td>\n",
       "      <td>0.000</td>\n",
       "      <td>5.0</td>\n",
       "      <td>22.0</td>\n",
       "      <td>Away</td>\n",
       "      <td>45.539131</td>\n",
       "      <td>-122.651648</td>\n",
       "    </tr>\n",
       "    <tr>\n",
       "      <th>16</th>\n",
       "      <td>0.0</td>\n",
       "      <td>0.0</td>\n",
       "      <td>0.0</td>\n",
       "      <td>1.0</td>\n",
       "      <td>0.0</td>\n",
       "      <td>2000-01</td>\n",
       "      <td>1.0</td>\n",
       "      <td>20.0</td>\n",
       "      <td>NaN</td>\n",
       "      <td>Unspecified</td>\n",
       "      <td>Goal Area</td>\n",
       "      <td>Less Than 8 ft.</td>\n",
       "      <td>Unspecified</td>\n",
       "      <td>0.00</td>\n",
       "      <td>1.00</td>\n",
       "      <td>0.000</td>\n",
       "      <td>1.0</td>\n",
       "      <td>20.0</td>\n",
       "      <td>Home</td>\n",
       "      <td>42.982923</td>\n",
       "      <td>-71.446094</td>\n",
       "    </tr>\n",
       "    <tr>\n",
       "      <th>19</th>\n",
       "      <td>0.0</td>\n",
       "      <td>0.0</td>\n",
       "      <td>10.0</td>\n",
       "      <td>3.0</td>\n",
       "      <td>0.0</td>\n",
       "      <td>Unspecified</td>\n",
       "      <td>46.0</td>\n",
       "      <td>20.0</td>\n",
       "      <td>NaN</td>\n",
       "      <td>Center(C)</td>\n",
       "      <td>Unspecified</td>\n",
       "      <td>Less Than 8 ft.</td>\n",
       "      <td>shot - 4</td>\n",
       "      <td>10.00</td>\n",
       "      <td>70.36</td>\n",
       "      <td>0.000</td>\n",
       "      <td>46.0</td>\n",
       "      <td>20.0</td>\n",
       "      <td>Home</td>\n",
       "      <td>42.982923</td>\n",
       "      <td>-71.446094</td>\n",
       "    </tr>\n",
       "    <tr>\n",
       "      <th>21</th>\n",
       "      <td>134.0</td>\n",
       "      <td>127.0</td>\n",
       "      <td>9.0</td>\n",
       "      <td>3.0</td>\n",
       "      <td>0.0</td>\n",
       "      <td>Unspecified</td>\n",
       "      <td>4.0</td>\n",
       "      <td>38.0</td>\n",
       "      <td>NaN</td>\n",
       "      <td>Right Side Center(RC)</td>\n",
       "      <td>Mid Range</td>\n",
       "      <td>16-24 ft.</td>\n",
       "      <td>shot - 24</td>\n",
       "      <td>9.00</td>\n",
       "      <td>43.36</td>\n",
       "      <td>0.000</td>\n",
       "      <td>4.0</td>\n",
       "      <td>38.0</td>\n",
       "      <td>Home</td>\n",
       "      <td>42.982923</td>\n",
       "      <td>-71.446094</td>\n",
       "    </tr>\n",
       "  </tbody>\n",
       "</table>\n",
       "</div>"
      ],
      "text/plain": [
       "    location_x  location_y  remaining_min  power_of_shot  knockout_match  game_season  remaining_sec  distance_of_shot  is_goal           area_of_shot  shot_basics    range_of_shot type_of_shot  remaining_min.1  power_of_shot.1  knockout_match.1  remaining_sec.1  distance_of_shot.1   h/a        lat        long\n",
       "0        167.0        72.0           10.0            1.0             0.0      2000-01           27.0              38.0      NaN          Right Side(R)    Mid Range        16-24 ft.    shot - 30            10.00             1.00            50.608             54.2                38.0  Away  45.539131 -122.651648\n",
       "7          1.0        28.0            8.0            3.0             0.0      2000-01            5.0              22.0      NaN              Center(C)    Goal Area  Less Than 8 ft.  Unspecified            68.64             3.00             0.000              5.0                22.0  Away  45.539131 -122.651648\n",
       "16         0.0         0.0            0.0            1.0             0.0      2000-01            1.0              20.0      NaN            Unspecified    Goal Area  Less Than 8 ft.  Unspecified             0.00             1.00             0.000              1.0                20.0  Home  42.982923  -71.446094\n",
       "19         0.0         0.0           10.0            3.0             0.0  Unspecified           46.0              20.0      NaN              Center(C)  Unspecified  Less Than 8 ft.     shot - 4            10.00            70.36             0.000             46.0                20.0  Home  42.982923  -71.446094\n",
       "21       134.0       127.0            9.0            3.0             0.0  Unspecified            4.0              38.0      NaN  Right Side Center(RC)    Mid Range        16-24 ft.    shot - 24             9.00            43.36             0.000              4.0                38.0  Home  42.982923  -71.446094"
      ]
     },
     "execution_count": 29,
     "metadata": {},
     "output_type": "execute_result"
    }
   ],
   "source": [
    "test.head()"
   ]
  },
  {
   "cell_type": "code",
   "execution_count": 30,
   "metadata": {},
   "outputs": [],
   "source": [
    "corr = data.corr()"
   ]
  },
  {
   "cell_type": "code",
   "execution_count": 31,
   "metadata": {},
   "outputs": [
    {
     "data": {
      "text/plain": [
       "<matplotlib.axes._subplots.AxesSubplot at 0x2a7504bd470>"
      ]
     },
     "execution_count": 31,
     "metadata": {},
     "output_type": "execute_result"
    },
    {
     "data": {
      "image/png": "[encoded data removed]",
      "text/plain": [
       "<Figure size 1008x1008 with 2 Axes>"
      ]
     },
     "metadata": {
      "needs_background": "light"
     },
     "output_type": "display_data"
    }
   ],
   "source": [
    "plt.figure(figsize=(14,14))\n",
    "sns.heatmap(corr, cbar=True, square= True, fmt='.2f',annot=True,annot_kws={'size':15}, cmap='Greens')"
   ]
  },
  {
   "cell_type": "code",
   "execution_count": 32,
   "metadata": {},
   "outputs": [],
   "source": [
    "final_data = pd.get_dummies(train)"
   ]
  },
  {
   "cell_type": "markdown",
   "metadata": {},
   "source": [
    "#### Once the data is cleaned, we split the data into training set and test set to prepare it for our machine learning model in a suitable proportion."
   ]
  },
  {
   "cell_type": "code",
   "execution_count": 33,
   "metadata": {},
   "outputs": [],
   "source": [
    "# Spliting target variable and independent variables\n",
    "X = final_data.drop(['is_goal'], axis = 1)\n",
    "y = final_data['is_goal']"
   ]
  },
  {
   "cell_type": "code",
   "execution_count": 34,
   "metadata": {},
   "outputs": [],
   "source": [
    "# Splitting the data into training set and testset\n",
    "from sklearn.model_selection import train_test_split\n",
    "X_train, X_test, y_train, y_test = train_test_split(X,y, test_size = 0.3, random_state = 0, stratify=y)"
   ]
  },
  {
   "cell_type": "markdown",
   "metadata": {},
   "source": [
    "### Logistic Regression"
   ]
  },
  {
   "cell_type": "code",
   "execution_count": 35,
   "metadata": {},
   "outputs": [
    {
     "name": "stderr",
     "output_type": "stream",
     "text": [
      "F:\\Installed\\Anaconda3\\lib\\site-packages\\sklearn\\linear_model\\logistic.py:433: FutureWarning: Default solver will be changed to 'lbfgs' in 0.22. Specify a solver to silence this warning.\n",
      "  FutureWarning)\n"
     ]
    },
    {
     "data": {
      "text/plain": [
       "LogisticRegression(C=1.0, class_weight=None, dual=False, fit_intercept=True,\n",
       "          intercept_scaling=1, max_iter=100, multi_class='warn',\n",
       "          n_jobs=None, penalty='l2', random_state=None, solver='warn',\n",
       "          tol=0.0001, verbose=0, warm_start=False)"
      ]
     },
     "execution_count": 35,
     "metadata": {},
     "output_type": "execute_result"
    }
   ],
   "source": [
    "# Logistic Regression\n",
    "\n",
    "# Import library for LogisticRegression\n",
    "from sklearn.linear_model import LogisticRegression\n",
    "\n",
    "# Create a Logistic regression classifier\n",
    "logreg = LogisticRegression()\n",
    "\n",
    "# Train the model using the training sets \n",
    "logreg.fit(X_train, y_train)"
   ]
  },
  {
   "cell_type": "code",
   "execution_count": 36,
   "metadata": {},
   "outputs": [],
   "source": [
    "# Prediction on test data\n",
    "y_pred = logreg.predict(X_test)"
   ]
  },
  {
   "cell_type": "code",
   "execution_count": 37,
   "metadata": {},
   "outputs": [
    {
     "name": "stdout",
     "output_type": "stream",
     "text": [
      "Total Accuracy :  63.9\n",
      "Precision :  65.13\n",
      "Recall :  40.75\n"
     ]
    }
   ],
   "source": [
    "# Calculating the accuracy, precision and the recall\n",
    "acc_logreg = round( metrics.accuracy_score(y_test, y_pred) * 100, 2 )\n",
    "print( 'Total Accuracy : ', acc_logreg )\n",
    "print( 'Precision : ', round( metrics.precision_score(y_test, y_pred) * 100, 2 ) )\n",
    "print( 'Recall : ', round( metrics.recall_score(y_test, y_pred) * 100, 2 ) )"
   ]
  },
  {
   "cell_type": "code",
   "execution_count": 38,
   "metadata": {},
   "outputs": [],
   "source": [
    "# Create confusion matrix function to find out sensitivity and specificity\n",
    "from sklearn.metrics import confusion_matrix\n",
    "def draw_cm(actual, predicted):\n",
    "    cm = confusion_matrix( actual, predicted, [1,0]).T\n",
    "    sns.heatmap(cm, annot=True,  fmt='.2f', xticklabels = [\"Yes\",\"No\"] , yticklabels = [\"Yes\",\"No\"] )\n",
    "    plt.ylabel('Predicted')\n",
    "    plt.xlabel('Actual')\n",
    "    plt.show()"
   ]
  },
  {
   "cell_type": "code",
   "execution_count": 39,
   "metadata": {},
   "outputs": [
    {
     "data": {
      "image/png": "[encoded data removed]",
      "text/plain": [
       "<Figure size 432x288 with 2 Axes>"
      ]
     },
     "metadata": {
      "needs_background": "light"
     },
     "output_type": "display_data"
    }
   ],
   "source": [
    "# Confusion matrix \n",
    "draw_cm(y_test, y_pred)"
   ]
  },
  {
   "cell_type": "markdown",
   "metadata": {},
   "source": [
    "### Gaussian Naive Bayes"
   ]
  },
  {
   "cell_type": "code",
   "execution_count": 40,
   "metadata": {},
   "outputs": [
    {
     "data": {
      "text/plain": [
       "GaussianNB(priors=None, var_smoothing=1e-09)"
      ]
     },
     "execution_count": 40,
     "metadata": {},
     "output_type": "execute_result"
    }
   ],
   "source": [
    "# Gaussian Naive Bayes\n",
    "\n",
    "# Import library of Gaussian Naive Bayes model\n",
    "from sklearn.naive_bayes import GaussianNB\n",
    "\n",
    "# Create a Gaussian Classifier\n",
    "model = GaussianNB()\n",
    "\n",
    "# Train the model using the training sets \n",
    "model.fit(X_train,y_train)"
   ]
  },
  {
   "cell_type": "code",
   "execution_count": 41,
   "metadata": {},
   "outputs": [],
   "source": [
    "# Prediction on test set\n",
    "y_pred = model.predict(X_test)"
   ]
  },
  {
   "cell_type": "code",
   "execution_count": 42,
   "metadata": {},
   "outputs": [
    {
     "name": "stdout",
     "output_type": "stream",
     "text": [
      "Total Accuracy :  50.99\n",
      "Precision :  47.2\n",
      "Recall :  84.8\n"
     ]
    }
   ],
   "source": [
    "# Calculating the accuracy, precision and the recall\n",
    "acc_nb = round( metrics.accuracy_score(y_test, y_pred) * 100, 2 )\n",
    "print( 'Total Accuracy : ', acc_nb )\n",
    "print( 'Precision : ', round( metrics.precision_score(y_test, y_pred) * 100, 2 ) )\n",
    "print( 'Recall : ', round( metrics.recall_score(y_test, y_pred) * 100, 2 ) )"
   ]
  },
  {
   "cell_type": "code",
   "execution_count": 43,
   "metadata": {},
   "outputs": [
    {
     "data": {
      "image/png": "[encoded data removed]",
      "text/plain": [
       "<Figure size 432x288 with 2 Axes>"
      ]
     },
     "metadata": {
      "needs_background": "light"
     },
     "output_type": "display_data"
    }
   ],
   "source": [
    "# Confusion matrix \n",
    "draw_cm(y_test, y_pred)"
   ]
  },
  {
   "cell_type": "markdown",
   "metadata": {},
   "source": [
    "### Decision Tree Classifier"
   ]
  },
  {
   "cell_type": "code",
   "execution_count": 44,
   "metadata": {},
   "outputs": [
    {
     "data": {
      "text/plain": [
       "DecisionTreeClassifier(class_weight=None, criterion='gini', max_depth=None,\n",
       "            max_features=None, max_leaf_nodes=None,\n",
       "            min_impurity_decrease=0.0, min_impurity_split=None,\n",
       "            min_samples_leaf=1, min_samples_split=2,\n",
       "            min_weight_fraction_leaf=0.0, presort=False, random_state=None,\n",
       "            splitter='best')"
      ]
     },
     "execution_count": 44,
     "metadata": {},
     "output_type": "execute_result"
    }
   ],
   "source": [
    "# Decision Tree Classifier\n",
    "\n",
    "# Import Decision tree classifier\n",
    "from sklearn.tree import DecisionTreeClassifier\n",
    "\n",
    "# Create a Decision tree classifier model\n",
    "clf = DecisionTreeClassifier()\n",
    "\n",
    "# Hyperparameter Optimization\n",
    "parameters = {'max_features': ['log2', 'sqrt','auto'], \n",
    "              'criterion': ['entropy', 'gini'],\n",
    "              'max_depth': [2, 3, 5, 10, 50], \n",
    "              'min_samples_split': [2, 3, 50, 100],\n",
    "              'min_samples_leaf': [1, 5, 8, 10]\n",
    "             }\n",
    "\n",
    "# Run the grid search\n",
    "grid_obj = GridSearchCV(clf, parameters)\n",
    "grid_obj = grid_obj.fit(X_train, y_train)\n",
    "\n",
    "# Set the clf to the best combination of parameters\n",
    "clf = grid_obj.best_estimator_\n",
    "\n",
    "# Train the model using the training sets \n",
    "clf.fit(X_train, y_train)"
   ]
  },
  {
   "cell_type": "code",
   "execution_count": 45,
   "metadata": {},
   "outputs": [],
   "source": [
    "# Prediction on training set\n",
    "y_pred = clf.predict(X_train)"
   ]
  },
  {
   "cell_type": "code",
   "execution_count": 46,
   "metadata": {},
   "outputs": [],
   "source": [
    "# Finding the variable with more importance\n",
    "feature_importance = pd.DataFrame([X_train.columns, clf.tree_.compute_feature_importances()])\n",
    "feature_importance = feature_importance.T.sort_values(by = 1, ascending=False)[1:10]"
   ]
  },
  {
   "cell_type": "code",
   "execution_count": 47,
   "metadata": {},
   "outputs": [
    {
     "name": "stderr",
     "output_type": "stream",
     "text": [
      "No handles with labels found to put in legend.\n"
     ]
    },
    {
     "data": {
      "image/png": "[encoded data removed]",
      "text/plain": [
       "<Figure size 432x288 with 1 Axes>"
      ]
     },
     "metadata": {
      "needs_background": "light"
     },
     "output_type": "display_data"
    }
   ],
   "source": [
    "sns.barplot(x=feature_importance[1], y=feature_importance[0])\n",
    "# Add labels to the graph\n",
    "plt.xlabel('Feature Importance Score')\n",
    "plt.ylabel('Features')\n",
    "plt.title(\"Visualizing Important Features\")\n",
    "plt.legend()\n",
    "plt.show()"
   ]
  },
  {
   "cell_type": "code",
   "execution_count": 48,
   "metadata": {},
   "outputs": [],
   "source": [
    "# Prediction on test set\n",
    "y_pred = clf.predict(X_test)"
   ]
  },
  {
   "cell_type": "code",
   "execution_count": 49,
   "metadata": {},
   "outputs": [
    {
     "name": "stdout",
     "output_type": "stream",
     "text": [
      "Total Accuracy :  55.81\n",
      "Precision :  50.38\n",
      "Recall :  50.25\n"
     ]
    }
   ],
   "source": [
    "# Calculating the accuracy, precision and the recall\n",
    "acc_dt = round( metrics.accuracy_score(y_test, y_pred) * 100, 2 )\n",
    "print( 'Total Accuracy : ', acc_dt )\n",
    "print( 'Precision : ', round( metrics.precision_score(y_test, y_pred) * 100, 2 ) )\n",
    "print( 'Recall : ', round( metrics.recall_score(y_test, y_pred) * 100, 2 ) )"
   ]
  },
  {
   "cell_type": "code",
   "execution_count": 50,
   "metadata": {},
   "outputs": [
    {
     "data": {
      "image/png": "[encoded data removed]",
      "text/plain": [
       "<Figure size 432x288 with 2 Axes>"
      ]
     },
     "metadata": {
      "needs_background": "light"
     },
     "output_type": "display_data"
    }
   ],
   "source": [
    "# Confusion matrix \n",
    "draw_cm(y_test, y_pred)"
   ]
  },
  {
   "cell_type": "markdown",
   "metadata": {},
   "source": [
    "### Random Forest Classifier"
   ]
  },
  {
   "cell_type": "code",
   "execution_count": 51,
   "metadata": {},
   "outputs": [
    {
     "name": "stderr",
     "output_type": "stream",
     "text": [
      "F:\\Installed\\Anaconda3\\lib\\site-packages\\sklearn\\ensemble\\forest.py:246: FutureWarning: The default value of n_estimators will change from 10 in version 0.20 to 100 in 0.22.\n",
      "  \"10 in version 0.20 to 100 in 0.22.\", FutureWarning)\n"
     ]
    },
    {
     "data": {
      "text/plain": [
       "RandomForestClassifier(bootstrap=True, class_weight=None, criterion='gini',\n",
       "            max_depth=None, max_features='auto', max_leaf_nodes=None,\n",
       "            min_impurity_decrease=0.0, min_impurity_split=None,\n",
       "            min_samples_leaf=1, min_samples_split=2,\n",
       "            min_weight_fraction_leaf=0.0, n_estimators=10, n_jobs=None,\n",
       "            oob_score=False, random_state=None, verbose=0,\n",
       "            warm_start=False)"
      ]
     },
     "execution_count": 51,
     "metadata": {},
     "output_type": "execute_result"
    }
   ],
   "source": [
    "# Random Forest Classifier\n",
    "\n",
    "# Import library of RandomForestClassifier model\n",
    "from sklearn.ensemble import RandomForestClassifier\n",
    "\n",
    "# Create a Random Forest Classifier\n",
    "rf = RandomForestClassifier()\n",
    "\n",
    "# Hyperparameter Optimization\n",
    "parameters = {'n_estimators': [4, 6, 9, 10, 15], \n",
    "              'max_features': ['log2', 'sqrt','auto'], \n",
    "              'criterion': ['entropy', 'gini'],\n",
    "              'max_depth': [2, 3, 5, 10], \n",
    "              'min_samples_split': [2, 3, 5],\n",
    "              'min_samples_leaf': [1, 5, 8]\n",
    "             }\n",
    "\n",
    "# Run the grid search\n",
    "grid_obj = GridSearchCV(rf, parameters)\n",
    "grid_obj = grid_obj.fit(X_train, y_train)\n",
    "\n",
    "# Set the rf to the best combination of parameters\n",
    "rf = grid_obj.best_estimator_\n",
    "# Train the model using the training sets \n",
    "rf.fit(X_train,y_train)"
   ]
  },
  {
   "cell_type": "code",
   "execution_count": 52,
   "metadata": {},
   "outputs": [
    {
     "name": "stderr",
     "output_type": "stream",
     "text": [
      "No handles with labels found to put in legend.\n"
     ]
    },
    {
     "data": {
      "image/png": "[encoded data removed]",
      "text/plain": [
       "<Figure size 432x288 with 1 Axes>"
      ]
     },
     "metadata": {
      "needs_background": "light"
     },
     "output_type": "display_data"
    }
   ],
   "source": [
    "# Finding the variable with more importance\n",
    "feature_imp = pd.Series(rf.feature_importances_,index= X_train.columns).sort_values(ascending=False)\n",
    "# Creating a bar plot\n",
    "feature_imp=feature_imp[0:10,]\n",
    "sns.barplot(x=feature_imp, y=feature_imp.index)\n",
    "# Add labels to the graph\n",
    "plt.xlabel('Feature Importance Score')\n",
    "plt.ylabel('Features')\n",
    "plt.title(\"Visualizing Important Features\")\n",
    "plt.legend()\n",
    "plt.show()"
   ]
  },
  {
   "cell_type": "code",
   "execution_count": 53,
   "metadata": {},
   "outputs": [],
   "source": [
    "# Prediction on test data\n",
    "y_pred = rf.predict(X_test)"
   ]
  },
  {
   "cell_type": "code",
   "execution_count": 54,
   "metadata": {},
   "outputs": [
    {
     "name": "stdout",
     "output_type": "stream",
     "text": [
      "Total Accuracy :  59.54\n",
      "Precision :  57.04\n",
      "Recall :  37.13\n"
     ]
    }
   ],
   "source": [
    "# Calculating the accuracy, precision and the recall\n",
    "acc_rf = round( metrics.accuracy_score(y_test, y_pred) * 100 , 2 )\n",
    "print( 'Total Accuracy : ', acc_rf )\n",
    "print( 'Precision : ', round( metrics.precision_score(y_test, y_pred) * 100 , 2 ) )\n",
    "print( 'Recall : ', round( metrics.recall_score(y_test, y_pred) * 100, 2 ) )"
   ]
  },
  {
   "cell_type": "code",
   "execution_count": 55,
   "metadata": {},
   "outputs": [
    {
     "data": {
      "image/png": "[encoded data removed]",
      "text/plain": [
       "<Figure size 432x288 with 2 Axes>"
      ]
     },
     "metadata": {
      "needs_background": "light"
     },
     "output_type": "display_data"
    }
   ],
   "source": [
    "# Confusion matrix \n",
    "draw_cm(y_test, y_pred)"
   ]
  },
  {
   "cell_type": "markdown",
   "metadata": {},
   "source": [
    "### Support Vector Machine Classifier"
   ]
  },
  {
   "cell_type": "code",
   "execution_count": 56,
   "metadata": {},
   "outputs": [
    {
     "name": "stderr",
     "output_type": "stream",
     "text": [
      "F:\\Installed\\Anaconda3\\lib\\site-packages\\sklearn\\preprocessing\\data.py:625: DataConversionWarning: Data with input dtype uint8, float64 were all converted to float64 by StandardScaler.\n",
      "  return self.partial_fit(X, y)\n",
      "F:\\Installed\\Anaconda3\\lib\\site-packages\\sklearn\\base.py:462: DataConversionWarning: Data with input dtype uint8, float64 were all converted to float64 by StandardScaler.\n",
      "  return self.fit(X, **fit_params).transform(X)\n",
      "F:\\Installed\\Anaconda3\\lib\\site-packages\\ipykernel_launcher.py:7: DataConversionWarning: Data with input dtype uint8, float64 were all converted to float64 by StandardScaler.\n",
      "  import sys\n"
     ]
    }
   ],
   "source": [
    "# SVM Classifier\n",
    "\n",
    "# Creating scaled set to be used in model to improve the results\n",
    "from sklearn.preprocessing import StandardScaler\n",
    "sc = StandardScaler()\n",
    "X_train = sc.fit_transform(X_train)\n",
    "X_test = sc.transform(X_test)"
   ]
  },
  {
   "cell_type": "code",
   "execution_count": 57,
   "metadata": {},
   "outputs": [
    {
     "data": {
      "text/plain": [
       "SVC(C=1.0, cache_size=200, class_weight=None, coef0=0.0,\n",
       "  decision_function_shape='ovr', degree=3, gamma='auto_deprecated',\n",
       "  kernel='rbf', max_iter=-1, probability=False, random_state=None,\n",
       "  shrinking=True, tol=0.001, verbose=False)"
      ]
     },
     "execution_count": 57,
     "metadata": {},
     "output_type": "execute_result"
    }
   ],
   "source": [
    "# Import Library of Support Vector Machine model\n",
    "from sklearn import svm\n",
    "\n",
    "# Create a Support Vector Classifier\n",
    "svc = svm.SVC()\n",
    "\n",
    "Hyperparameter Optimization\n",
    "parameters = [\n",
    "  {'C': [1, 10, 100, 1000], 'gamma': [0.001, 0.0001], 'kernel': ['linear']}\n",
    "]\n",
    "\n",
    "# Run the grid search\n",
    "grid_obj = GridSearchCV(svc, parameters)\n",
    "grid_obj = grid_obj.fit(X_train, y_train)\n",
    "\n",
    "# Set the svc to the best combination of parameters\n",
    "svc = grid_obj.best_estimator_\n",
    "\n",
    "# Train the model using the training sets \n",
    "svc.fit(X_train,y_train)"
   ]
  },
  {
   "cell_type": "code",
   "execution_count": 58,
   "metadata": {},
   "outputs": [],
   "source": [
    "# Prediction on test data\n",
    "y_pred = svc.predict(X_test)"
   ]
  },
  {
   "cell_type": "code",
   "execution_count": 59,
   "metadata": {},
   "outputs": [
    {
     "name": "stdout",
     "output_type": "stream",
     "text": [
      "Total Accuracy :  63.83\n",
      "Precision :  65.66\n",
      "Recall :  39.37\n"
     ]
    }
   ],
   "source": [
    "# Calculating the accuracy, precision and the recall\n",
    "acc_svm = round( metrics.accuracy_score(y_test, y_pred) * 100, 2 )\n",
    "print( 'Total Accuracy : ', acc_svm )\n",
    "print( 'Precision : ', round( metrics.precision_score(y_test, y_pred) * 100, 2 ) )\n",
    "print( 'Recall : ', round( metrics.recall_score(y_test, y_pred) * 100, 2 ) )"
   ]
  },
  {
   "cell_type": "code",
   "execution_count": 60,
   "metadata": {},
   "outputs": [
    {
     "data": {
      "image/png": "[encoded data removed]",
      "text/plain": [
       "<Figure size 432x288 with 2 Axes>"
      ]
     },
     "metadata": {
      "needs_background": "light"
     },
     "output_type": "display_data"
    }
   ],
   "source": [
    "# Confusion matrix \n",
    "draw_cm(y_test, y_pred)"
   ]
  },
  {
   "cell_type": "markdown",
   "metadata": {},
   "source": [
    "### eXtreme Gradient Boosting"
   ]
  },
  {
   "cell_type": "code",
   "execution_count": 61,
   "metadata": {},
   "outputs": [
    {
     "data": {
      "text/plain": [
       "XGBClassifier(base_score=0.5, booster='gbtree', colsample_bylevel=1,\n",
       "       colsample_bytree=0.8, gamma=1, learning_rate=0.02, max_delta_step=0,\n",
       "       max_depth=4, min_child_weight=2, missing=None, n_estimators=2000,\n",
       "       n_jobs=1, nthread=-1, objective='binary:logistic', random_state=0,\n",
       "       reg_alpha=0, reg_lambda=1, scale_pos_weight=1, seed=None,\n",
       "       silent=True, subsample=0.8)"
      ]
     },
     "execution_count": 61,
     "metadata": {},
     "output_type": "execute_result"
    }
   ],
   "source": [
    "# eXtreme Gradient Boosting\n",
    "\n",
    "# Import library of xgboost model\n",
    "from xgboost import XGBClassifier\n",
    "\n",
    "# Create a XGB Classifier\n",
    "gbm = XGBClassifier(learning_rate = 0.02, n_estimators= 2000, max_depth= 4, min_child_weight= 2, gamma=1, subsample=0.8, \n",
    "                    colsample_bytree=0.8, objective= 'binary:logistic', nthread= -1, scale_pos_weight=1)\n",
    "\n",
    "# Train the model using the training sets \n",
    "gbm.fit(X_train, y_train)"
   ]
  },
  {
   "cell_type": "code",
   "execution_count": 62,
   "metadata": {},
   "outputs": [],
   "source": [
    "# Prediction on test data\n",
    "y_pred = gbm.predict(X_test)"
   ]
  },
  {
   "cell_type": "code",
   "execution_count": 63,
   "metadata": {},
   "outputs": [
    {
     "name": "stdout",
     "output_type": "stream",
     "text": [
      "Total Accuracy :  62.97\n",
      "Precision :  62.61\n",
      "Recall :  41.82\n"
     ]
    }
   ],
   "source": [
    "# Calculating the accuracy, precision and the recall\n",
    "acc_xgb = round( metrics.accuracy_score(y_test, y_pred) * 100 , 2 )\n",
    "print( 'Total Accuracy : ', acc_xgb )\n",
    "print( 'Precision : ', round( metrics.precision_score(y_test, y_pred) * 100 , 2 ) )\n",
    "print( 'Recall : ', round( metrics.recall_score(y_test, y_pred) * 100, 2 ) )"
   ]
  },
  {
   "cell_type": "code",
   "execution_count": 64,
   "metadata": {},
   "outputs": [
    {
     "data": {
      "image/png": "[encoded data removed]",
      "text/plain": [
       "<Figure size 432x288 with 2 Axes>"
      ]
     },
     "metadata": {
      "needs_background": "light"
     },
     "output_type": "display_data"
    }
   ],
   "source": [
    "# Confusion matrix \n",
    "draw_cm(y_test, y_pred)"
   ]
  },
  {
   "cell_type": "markdown",
   "metadata": {},
   "source": [
    "### Evaluation and comparision of all the models"
   ]
  },
  {
   "cell_type": "code",
   "execution_count": 65,
   "metadata": {},
   "outputs": [
    {
     "data": {
      "text/html": [
       "<div>\n",
       "<style scoped>\n",
       "    .dataframe tbody tr th:only-of-type {\n",
       "        vertical-align: middle;\n",
       "    }\n",
       "\n",
       "    .dataframe tbody tr th {\n",
       "        vertical-align: top;\n",
       "    }\n",
       "\n",
       "    .dataframe thead th {\n",
       "        text-align: right;\n",
       "    }\n",
       "</style>\n",
       "<table border=\"1\" class=\"dataframe\">\n",
       "  <thead>\n",
       "    <tr style=\"text-align: right;\">\n",
       "      <th></th>\n",
       "      <th>Model</th>\n",
       "      <th>Score</th>\n",
       "    </tr>\n",
       "  </thead>\n",
       "  <tbody>\n",
       "    <tr>\n",
       "      <th>0</th>\n",
       "      <td>Logistic Regression</td>\n",
       "      <td>63.90</td>\n",
       "    </tr>\n",
       "    <tr>\n",
       "      <th>4</th>\n",
       "      <td>Support Vector Machines</td>\n",
       "      <td>63.83</td>\n",
       "    </tr>\n",
       "    <tr>\n",
       "      <th>5</th>\n",
       "      <td>XGBoost</td>\n",
       "      <td>62.97</td>\n",
       "    </tr>\n",
       "    <tr>\n",
       "      <th>3</th>\n",
       "      <td>Random Forest</td>\n",
       "      <td>59.54</td>\n",
       "    </tr>\n",
       "    <tr>\n",
       "      <th>2</th>\n",
       "      <td>Decision Tree</td>\n",
       "      <td>55.81</td>\n",
       "    </tr>\n",
       "    <tr>\n",
       "      <th>1</th>\n",
       "      <td>Naive Bayes</td>\n",
       "      <td>50.99</td>\n",
       "    </tr>\n",
       "  </tbody>\n",
       "</table>\n",
       "</div>"
      ],
      "text/plain": [
       "                     Model  Score\n",
       "0      Logistic Regression  63.90\n",
       "4  Support Vector Machines  63.83\n",
       "5                  XGBoost  62.97\n",
       "3            Random Forest  59.54\n",
       "2            Decision Tree  55.81\n",
       "1              Naive Bayes  50.99"
      ]
     },
     "execution_count": 65,
     "metadata": {},
     "output_type": "execute_result"
    }
   ],
   "source": [
    "models = pd.DataFrame({\n",
    "    'Model': ['Logistic Regression', 'Naive Bayes', 'Decision Tree', 'Random Forest', 'Support Vector Machines', 'XGBoost'],\n",
    "    'Score': [acc_logreg, acc_nb, acc_dt, acc_rf, acc_svm, acc_xgb]})\n",
    "models.sort_values(by='Score', ascending=False)"
   ]
  },
  {
   "cell_type": "code",
   "execution_count": 66,
   "metadata": {},
   "outputs": [],
   "source": [
    "test_data = pd.get_dummies(test)"
   ]
  },
  {
   "cell_type": "code",
   "execution_count": 67,
   "metadata": {},
   "outputs": [],
   "source": [
    "test_data.drop(['is_goal'], axis=1, inplace=True)"
   ]
  },
  {
   "cell_type": "code",
   "execution_count": 68,
   "metadata": {},
   "outputs": [],
   "source": [
    "my_pred = logreg.predict(test_data)"
   ]
  },
  {
   "cell_type": "code",
   "execution_count": 69,
   "metadata": {},
   "outputs": [
    {
     "data": {
      "text/plain": [
       "(6268,)"
      ]
     },
     "execution_count": 69,
     "metadata": {},
     "output_type": "execute_result"
    }
   ],
   "source": [
    "my_pred.shape"
   ]
  },
  {
   "cell_type": "code",
   "execution_count": 70,
   "metadata": {},
   "outputs": [],
   "source": [
    "my_submission['is_goal'] = my_pred"
   ]
  },
  {
   "cell_type": "code",
   "execution_count": 71,
   "metadata": {},
   "outputs": [
    {
     "data": {
      "text/html": [
       "<div>\n",
       "<style scoped>\n",
       "    .dataframe tbody tr th:only-of-type {\n",
       "        vertical-align: middle;\n",
       "    }\n",
       "\n",
       "    .dataframe tbody tr th {\n",
       "        vertical-align: top;\n",
       "    }\n",
       "\n",
       "    .dataframe thead th {\n",
       "        text-align: right;\n",
       "    }\n",
       "</style>\n",
       "<table border=\"1\" class=\"dataframe\">\n",
       "  <thead>\n",
       "    <tr style=\"text-align: right;\">\n",
       "      <th></th>\n",
       "      <th>shot_id_number</th>\n",
       "      <th>is_goal</th>\n",
       "    </tr>\n",
       "  </thead>\n",
       "  <tbody>\n",
       "    <tr>\n",
       "      <th>0</th>\n",
       "      <td>1</td>\n",
       "      <td>0.0</td>\n",
       "    </tr>\n",
       "    <tr>\n",
       "      <th>7</th>\n",
       "      <td>8</td>\n",
       "      <td>1.0</td>\n",
       "    </tr>\n",
       "    <tr>\n",
       "      <th>16</th>\n",
       "      <td>17</td>\n",
       "      <td>1.0</td>\n",
       "    </tr>\n",
       "    <tr>\n",
       "      <th>19</th>\n",
       "      <td>20</td>\n",
       "      <td>1.0</td>\n",
       "    </tr>\n",
       "    <tr>\n",
       "      <th>21</th>\n",
       "      <td>22</td>\n",
       "      <td>0.0</td>\n",
       "    </tr>\n",
       "  </tbody>\n",
       "</table>\n",
       "</div>"
      ],
      "text/plain": [
       "    shot_id_number  is_goal\n",
       "0                1      0.0\n",
       "7                8      1.0\n",
       "16              17      1.0\n",
       "19              20      1.0\n",
       "21              22      0.0"
      ]
     },
     "execution_count": 71,
     "metadata": {},
     "output_type": "execute_result"
    }
   ],
   "source": [
    "my_submission.head()"
   ]
  },
  {
   "cell_type": "code",
   "execution_count": 72,
   "metadata": {},
   "outputs": [
    {
     "data": {
      "text/plain": [
       "(6268, 2)"
      ]
     },
     "execution_count": 72,
     "metadata": {},
     "output_type": "execute_result"
    }
   ],
   "source": [
    "my_submission.shape"
   ]
  },
  {
   "cell_type": "code",
   "execution_count": 74,
   "metadata": {},
   "outputs": [
    {
     "name": "stdout",
     "output_type": "stream",
     "text": [
      "File submitted successfully\n"
     ]
    }
   ],
   "source": [
    "# Saving predictions to the csv file\n",
    "my_submission.to_csv('shreayan_chaudhary_060298_prediction_1.csv', index=False)\n",
    "print (\"File submitted successfully\")"
   ]
  }
 ],
 "metadata": {
  "kernelspec": {
   "display_name": "Python 3",
   "language": "python",
   "name": "python3"
  },
  "language_info": {
   "codemirror_mode": {
    "name": "ipython",
    "version": 3
   },
   "file_extension": ".py",
   "mimetype": "text/x-python",
   "name": "python",
   "nbconvert_exporter": "python",
   "pygments_lexer": "ipython3",
   "version": "3.7.1"
  },
  "varInspector": {
   "cols": {
    "lenName": 16,
    "lenType": 16,
    "lenVar": 40
   },
   "kernels_config": {
    "python": {
     "delete_cmd_postfix": "",
     "delete_cmd_prefix": "del ",
     "library": "var_list.py",
     "varRefreshCmd": "print(var_dic_list())"
    },
    "r": {
     "delete_cmd_postfix": ") ",
     "delete_cmd_prefix": "rm(",
     "library": "var_list.r",
     "varRefreshCmd": "cat(var_dic_list()) "
    }
   },
   "types_to_exclude": [
    "module",
    "function",
    "builtin_function_or_method",
    "instance",
    "_Feature"
   ],
   "window_display": false
  }
 },
 "nbformat": 4,
 "nbformat_minor": 2
}
